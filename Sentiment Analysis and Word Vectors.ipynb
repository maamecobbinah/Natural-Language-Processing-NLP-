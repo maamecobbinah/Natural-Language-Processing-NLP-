{
 "cells": [
  {
   "cell_type": "markdown",
   "id": "ef161b4d-999a-45de-826c-5ff73e98588e",
   "metadata": {},
   "source": [
    "# Sentiment Analysis & Word Vectors"
   ]
  },
  {
   "cell_type": "markdown",
   "id": "a8d79da3-8de5-455c-bad5-0745bb199927",
   "metadata": {},
   "source": [
    "Import Libarires"
   ]
  },
  {
   "cell_type": "code",
   "execution_count": 4,
   "id": "f15f2005-acc3-4ea8-b335-cca79900a8dc",
   "metadata": {},
   "outputs": [],
   "source": [
    "import numpy as np\n",
    "import pandas as pd\n",
    "import spacy\n",
    "import en_core_web_lg\n",
    "nlp = en_core_web_lg.load()"
   ]
  },
  {
   "cell_type": "markdown",
   "id": "4eebec0e-53b4-4736-9c74-d7f60d2f53ff",
   "metadata": {},
   "source": [
    "### Word Vectors "
   ]
  },
  {
   "cell_type": "markdown",
   "id": "031a9539-47f0-480b-bc85-a4b8f01be1be",
   "metadata": {},
   "source": [
    "Below we use some examples for Word 2 vec to capture  words as vectors that captures their meaning and semantic similarity and relationship. A"
   ]
  },
  {
   "cell_type": "code",
   "execution_count": 9,
   "id": "d906fa83-35e5-4229-aca7-4639015728d3",
   "metadata": {},
   "outputs": [
    {
     "data": {
      "text/plain": [
       "array([  1.2746  ,   0.46242 ,  -1.1829  ,  -5.2661  ,  -2.7128  ,\n",
       "         1.8521  ,  -0.94273 ,   2.1865  ,   6.503   ,   0.6704  ,\n",
       "         1.5361  ,   2.5992  ,  -0.36233 ,   4.3965  ,  -6.5644  ,\n",
       "         1.6141  ,  -1.2897  ,   2.1184  ,  -0.63654 ,  -3.4572  ,\n",
       "        -4.3771  ,   4.2074  ,  -3.6411  ,  -0.97214 ,   1.3253  ,\n",
       "        -2.3125  ,  -3.6531  ,  -2.8398  ,   2.7913  ,  -1.53    ,\n",
       "        -2.9984  ,  -2.6357  ,   0.50615 ,  -2.6925  ,   4.3401  ,\n",
       "        -5.6017  ,   0.045691,   4.3832  ,  -0.19535 ,  -1.0751  ,\n",
       "         0.32172 ,   2.4395  ,   4.6638  ,   3.4471  ,  -3.3847  ,\n",
       "        -1.8238  ,   0.70212 ,   0.58557 ,   5.0032  ,  -3.1072  ,\n",
       "         1.2364  ,   7.4595  ,   0.057368,   1.0111  ,  -1.0827  ,\n",
       "         0.69113 ,   2.8009  ,  -3.4383  ,  -1.0599  ,  -2.2627  ,\n",
       "        -5.149   ,  -5.0636  ,   3.1405  ,   1.0793  ,  -0.72892 ,\n",
       "        -3.9939  ,  -0.69551 ,  -0.55767 ,   3.2555  ,  -2.9449  ,\n",
       "         4.7114  ,   1.6388  ,   1.3828  ,   1.4255  ,  -3.2334  ,\n",
       "        -2.274   ,  -1.8136  ,   2.2966  ,   2.5462  ,   1.0722  ,\n",
       "        -0.73447 ,   1.2148  ,  -0.9196  ,  -0.065012,   2.088   ,\n",
       "         0.57002 ,   3.5746  ,   1.7192  ,  -8.335   ,   0.71079 ,\n",
       "         0.91314 ,  -5.0107  ,   1.899   ,  -4.4658  ,   4.7993  ,\n",
       "        -0.39899 ,  -2.673   ,  -2.9354  ,   4.304   ,   1.4336  ,\n",
       "         3.7121  ,   0.34882 ,   4.6512  ,  -4.5731  ,  -4.5665  ,\n",
       "         1.5988  ,  -0.50383 ,   0.95857 ,   0.68728 ,  -0.39976 ,\n",
       "        -3.1922  ,   4.4363  ,  -0.69479 ,  -1.9528  ,   4.9376  ,\n",
       "         2.7259  ,   2.2485  ,   5.5734  ,   2.5842  ,   4.7836  ,\n",
       "        -1.0274  ,   2.2703  ,  -2.0696  ,  -1.0642  ,  -4.932   ,\n",
       "        -2.274   ,   4.1409  ,   0.73313 ,   2.1889  ,  -0.098888,\n",
       "         1.6472  ,  -2.3985  ,   2.5911  ,   3.6026  ,   1.885   ,\n",
       "         5.7822  ,  -1.4481  ,   1.8914  , -10.044   ,  -5.7452  ,\n",
       "        -4.3224  ,  -3.854   ,   2.3084  ,  -0.84018 ,  -0.40526 ,\n",
       "         4.7741  ,  -2.3271  ,   7.064   ,   0.95753 ,  -2.356   ,\n",
       "         0.83953 ,   0.40004 ,   0.33743 ,   0.8376  ,   3.9285  ,\n",
       "         0.05955 ,   2.4422  ,   4.3492  ,   3.9861  ,   2.1043  ,\n",
       "        -1.0197  ,  -0.61752 ,  -0.42999 ,  -0.1014  ,  -5.9571  ,\n",
       "        -0.53818 ,  -1.7797  ,   1.7446  ,   2.3934  ,  -0.50263 ,\n",
       "        -1.6222  ,  -0.37372 ,  -6.8938  ,   0.55018 ,  -2.267   ,\n",
       "         0.64912 ,   3.1525  ,  -2.2541  ,  -4.0384  ,   3.206   ,\n",
       "         0.14962 ,  -2.6662  ,   0.18167 ,   5.0028  ,   2.1521  ,\n",
       "         0.92419 ,   5.4163  ,  -2.2408  ,   1.6585  ,  -5.1625  ,\n",
       "         5.029   ,   0.1026  ,  -0.44542 ,   2.0557  ,   3.7778  ,\n",
       "         3.8679  ,  -2.7135  ,   5.3242  ,  -3.2916  ,   5.6421  ,\n",
       "         5.0466  ,   1.6072  ,  -1.3206  ,   4.2044  ,  -0.33793 ,\n",
       "        -3.1139  ,   2.8841  ,  -3.1565  ,  -2.9832  ,  -0.23235 ,\n",
       "         2.3259  ,   3.5477  ,  -2.1299  ,  -1.8344  ,   2.7271  ,\n",
       "         1.5568  ,   5.6865  ,   0.9412  ,  -2.6412  ,  -5.3254  ,\n",
       "         1.3494  ,  -0.47159 ,   2.4979  ,  -1.5568  ,  -1.6911  ,\n",
       "        -2.1842  ,   6.0319  ,   0.022573,   2.3824  ,  -1.1002  ,\n",
       "         0.90216 ,  -1.9113  ,   1.5527  ,   5.7413  ,  -3.1956  ,\n",
       "         0.68655 ,  -1.6068  ,   1.7404  ,  -3.2142  ,   6.4783  ,\n",
       "         1.7548  ,  -2.9795  ,   0.97631 ,  -0.018354,  -0.6379  ,\n",
       "         0.80559 ,   3.1923  ,   3.3335  ,   4.3068  ,  -1.0819  ,\n",
       "        -1.3839  ,  -4.7626  ,  -4.6637  ,  -1.2201  ,  -3.2741  ,\n",
       "         1.5204  ,   0.78119 ,   8.7339  ,   1.6009  ,  -0.79332 ,\n",
       "         5.8416  ,  -1.485   ,   1.5978  ,   2.9746  ,  -0.30759 ,\n",
       "        -1.8023  ,  -4.8344  ,   1.2817  ,  -2.5469  ,   2.6517  ,\n",
       "         1.4881  ,   2.1952  ,  -0.12652 ,   1.2223  ,   0.44763 ,\n",
       "        -3.1445  ,  -2.2051  ,  -4.1785  ,  -3.6539  ,   5.1929  ,\n",
       "         0.78457 ,  -1.2312  ,   5.5624  ,  -1.8462  ,   6.1262  ,\n",
       "        -1.6653  ,  -2.7557  ,  -0.066465,  -3.6362  ,   5.2005  ,\n",
       "        -1.2865  ,   2.8855  ,   6.1219  ,   1.7824  ,   1.4264  ,\n",
       "        10.628   ,  -0.36028 ,   1.9268  ,  -7.835   ,   0.57865 ],\n",
       "      dtype=float32)"
      ]
     },
     "execution_count": 9,
     "metadata": {},
     "output_type": "execute_result"
    }
   ],
   "source": [
    "# Access the vector represenatation of sentences and words\n",
    "nlp(u'lion').vector"
   ]
  },
  {
   "cell_type": "code",
   "execution_count": 11,
   "id": "9a1d803b-ca89-4e61-ad70-de371cebe620",
   "metadata": {},
   "outputs": [
    {
     "data": {
      "text/plain": [
       "array([-1.3447682 ,  2.257493  , -3.0360641 , -0.58615243,  0.50969756,\n",
       "        0.7050806 ,  1.3814132 ,  4.2003093 , -2.5791993 ,  0.9548561 ,\n",
       "        7.5432315 ,  1.8662556 , -4.9119344 ,  0.3565063 ,  1.6630428 ,\n",
       "        0.6511826 ,  3.0648608 , -2.6400926 , -3.4817035 , -1.7936326 ,\n",
       "        0.9469031 , -0.4082913 , -1.782362  , -1.6423051 , -0.52906626,\n",
       "       -2.6012905 , -2.5822732 , -0.4071854 , -2.4858875 ,  0.7437282 ,\n",
       "        2.2198625 , -1.1783706 , -1.6373781 ,  0.16664371, -0.27323   ,\n",
       "       -0.8290928 ,  0.5215054 ,  0.83901346,  3.4933631 ,  0.3876384 ,\n",
       "        0.8264105 ,  0.93310225,  0.38192904, -0.36310306, -1.8834537 ,\n",
       "        2.5086365 ,  2.87784   , -4.4239097 , -1.1763743 ,  1.4912817 ,\n",
       "       -0.24169624,  0.39435187, -0.05197951, -6.23575   , -3.5920532 ,\n",
       "        0.887545  , -0.3185535 ,  1.6171355 ,  1.7095331 ,  0.56552684,\n",
       "        3.0037236 , -0.1760025 , -0.51229024,  0.28779125,  1.2488239 ,\n",
       "        1.367302  , -2.5299964 , -4.0484076 ,  0.9164686 ,  3.0573936 ,\n",
       "       -0.70470005,  1.0070779 , -0.9759451 , -0.35434002, -0.78909177,\n",
       "        2.7321236 , -3.68642   ,  0.639083  , -4.7137403 , -1.2967018 ,\n",
       "       -4.792159  , -0.5788887 ,  2.4712346 ,  0.41907015,  0.923475  ,\n",
       "       -0.43463308, -0.8874034 , -1.4725032 ,  3.0420387 ,  0.19721794,\n",
       "        0.33019456, -0.72469115,  2.254633  , -5.3608646 ,  1.2245363 ,\n",
       "       -1.7426056 ,  1.0572925 , -1.3123704 ,  0.0307319 ,  0.36244807,\n",
       "        1.638125  ,  2.213445  ,  1.2753575 ,  1.1352454 , -1.9932629 ,\n",
       "        5.1492066 , -1.8701887 , -3.1452694 , -1.0161256 , -2.2635944 ,\n",
       "        1.0180333 , -0.7333063 , -0.68428993,  0.07605368,  0.20215066,\n",
       "        1.8909345 , -3.0824397 , -0.96296686,  0.9437725 , -0.841165  ,\n",
       "       -3.538278  , -1.8802263 , -1.8848023 ,  1.656833  , -0.7616507 ,\n",
       "       -3.3387666 ,  0.9102012 , -2.4177032 ,  1.809622  , -0.5490647 ,\n",
       "       -2.9780655 ,  0.7330249 ,  3.3512266 , -0.89125556, -1.1010888 ,\n",
       "        0.68733144, -1.9074892 , -1.0975715 ,  4.5066137 , -1.9656426 ,\n",
       "       -2.0850337 , -0.4078694 ,  0.86898935,  1.0734131 , -0.66989857,\n",
       "       -0.41372856, -0.80446184, -0.43274626, -0.52213997,  0.7425177 ,\n",
       "       -0.94398755,  3.7670486 , -1.355265  ,  0.04463556, -1.2413901 ,\n",
       "        1.38977   ,  4.7912693 ,  1.3780318 , -2.3189476 , -1.2485117 ,\n",
       "       -1.8009969 , -1.6146151 , -1.0606136 ,  1.4517126 , -1.7317942 ,\n",
       "       -1.7926539 , -5.411354  ,  0.86056626,  0.9803176 , -0.43373916,\n",
       "        1.1674942 ,  0.08541375,  1.3096418 ,  3.2437675 ,  3.6158738 ,\n",
       "       -1.139313  , -0.58402014, -0.51642996, -1.2183206 , -2.9344556 ,\n",
       "       -1.4772506 ,  0.6888713 ,  2.990303  , -2.552288  , -1.4737612 ,\n",
       "        0.74186623, -1.8788707 , -2.429197  ,  2.640726  ,  3.754445  ,\n",
       "       -1.59367   , -0.0277444 , -1.7841375 , -0.01702562, -0.8774331 ,\n",
       "        1.2553608 , -4.278116  , -0.03855069, -0.11636388,  2.0611    ,\n",
       "       -3.6394582 , -1.0250999 , -2.223795  , -2.59993   ,  1.9399543 ,\n",
       "        1.1506143 , -3.0938587 ,  0.5689275 ,  0.5266459 , -1.1938295 ,\n",
       "        0.5500256 ,  0.82434493,  0.26033106,  3.2481954 , -1.1558775 ,\n",
       "        2.669287  ,  1.7901955 , -2.9591303 , -1.0544962 ,  0.16627681,\n",
       "       -1.9441345 ,  0.6606488 , -0.15234262,  0.151975  , -1.2631034 ,\n",
       "       -2.8722355 , -0.46260312,  1.8724256 ,  2.5298204 ,  1.3172362 ,\n",
       "       -0.38307816, -3.2858014 ,  0.01900149,  0.35779995,  1.9494474 ,\n",
       "        0.49463814, -1.4352419 ,  1.7010676 , -0.5752513 , -1.3639419 ,\n",
       "       -3.26395   ,  0.60088   ,  2.990075  ,  1.7112892 , -0.6953642 ,\n",
       "        0.65441936, -2.3062592 ,  0.86293185,  1.9428456 ,  2.6214912 ,\n",
       "        0.12282435, -1.3008237 , -4.2063823 , -1.1536288 ,  0.11869678,\n",
       "       -3.7081525 ,  1.6056043 ,  0.27063185, -0.62936336,  1.1313493 ,\n",
       "        0.07922938,  4.415134  ,  3.4389272 ,  3.8879662 ,  2.3200188 ,\n",
       "       -1.2012483 ,  0.8010262 ,  3.280267  , -4.9952626 , -0.20735252,\n",
       "        0.11700851, -1.8266007 , -0.4807263 , -1.6867081 , -0.07190882,\n",
       "       -1.9868612 ,  0.23954944, -0.87900245, -2.866079  ,  1.7796321 ,\n",
       "        0.04669571, -2.3743887 ,  0.08973446,  0.5528969 ,  3.9278364 ,\n",
       "       -2.0262663 ,  2.2509294 ,  1.7070452 , -1.846862  ,  0.93132067,\n",
       "        1.8529159 , -2.2225683 ,  0.7067937 ,  0.30139163, -1.5343394 ,\n",
       "        0.16139185,  1.519001  , -1.1884376 , -4.568841  ,  2.8349597 ],\n",
       "      dtype=float32)"
      ]
     },
     "execution_count": 11,
     "metadata": {},
     "output_type": "execute_result"
    }
   ],
   "source": [
    "nlp(u'I know that for several reasons Natural Language Processing can be a hard topic to cover').vector"
   ]
  },
  {
   "cell_type": "code",
   "execution_count": 13,
   "id": "e2801de1-2007-4f8f-8600-f1aee231b460",
   "metadata": {},
   "outputs": [
    {
     "data": {
      "text/plain": [
       "(300,)"
      ]
     },
     "execution_count": 13,
     "metadata": {},
     "output_type": "execute_result"
    }
   ],
   "source": [
    "#gettinf the shape\n",
    "nlp(u'I know that for several reasons Natural Language Processing can be a hard topic to cover').vector.shape"
   ]
  },
  {
   "cell_type": "markdown",
   "id": "bce97396-6eb4-47c2-aef3-77efe86fafe9",
   "metadata": {},
   "source": [
    "using tokens to find similarity between words"
   ]
  },
  {
   "cell_type": "code",
   "execution_count": 15,
   "id": "016b46e8-0a4f-40e3-a9b9-ee7c05aefa3b",
   "metadata": {},
   "outputs": [],
   "source": [
    "tokens = nlp(u'lion cat pet')"
   ]
  },
  {
   "cell_type": "code",
   "execution_count": 17,
   "id": "eac16bbb-9a3a-450a-bfb9-f553d53c1fff",
   "metadata": {},
   "outputs": [
    {
     "name": "stdout",
     "output_type": "stream",
     "text": [
      "lion lion 1.0\n",
      "lion cat 0.3854507803916931\n",
      "lion pet 0.20031583309173584\n",
      "cat lion 0.3854507803916931\n",
      "cat cat 1.0\n",
      "cat pet 0.732966423034668\n",
      "pet lion 0.20031583309173584\n",
      "pet cat 0.732966423034668\n",
      "pet pet 1.0\n"
     ]
    }
   ],
   "source": [
    "#checking for similarity between the tokens set up usining cosine similarity\n",
    "for token1 in tokens:\n",
    "    for token2 in tokens:\n",
    "        print(token1.text, token2.text, token1.similarity(token2))"
   ]
  },
  {
   "cell_type": "code",
   "execution_count": 19,
   "id": "608ef1e2-e388-40f3-92f7-e7c3e51b8c10",
   "metadata": {},
   "outputs": [],
   "source": [
    "tokens = nlp(u'like love hate')"
   ]
  },
  {
   "cell_type": "code",
   "execution_count": 21,
   "id": "c101e2a0-ed85-4249-bb14-168159d6a8f4",
   "metadata": {},
   "outputs": [
    {
     "name": "stdout",
     "output_type": "stream",
     "text": [
      "like like 1.0\n",
      "like love 0.521263837814331\n",
      "like hate 0.5065141320228577\n",
      "love like 0.521263837814331\n",
      "love love 1.0\n",
      "love hate 0.5708349943161011\n",
      "hate like 0.5065141320228577\n",
      "hate love 0.5708349943161011\n",
      "hate hate 1.0\n"
     ]
    }
   ],
   "source": [
    "#checking for similarity between the tokens set up usining cosine similarity\n",
    "for token1 in tokens:\n",
    "    for token2 in tokens:\n",
    "        print(token1.text, token2.text, token1.similarity(token2))"
   ]
  },
  {
   "cell_type": "code",
   "execution_count": 25,
   "id": "39eb2d1e-27f3-4c44-a542-2ad08ef72bab",
   "metadata": {},
   "outputs": [
    {
     "data": {
      "text/plain": [
       "(514157, 300)"
      ]
     },
     "execution_count": 25,
     "metadata": {},
     "output_type": "execute_result"
    }
   ],
   "source": [
    "#checking for vocabularey vectors\n",
    "nlp.vocab.vectors.shape"
   ]
  },
  {
   "cell_type": "code",
   "execution_count": 42,
   "id": "0488dee7-9ca5-495c-82ea-452d2f77cf50",
   "metadata": {},
   "outputs": [],
   "source": [
    "#getting a new token\n",
    "tokens = nlp(u'dog cat nargle')"
   ]
  },
  {
   "cell_type": "code",
   "execution_count": 44,
   "id": "a1dc958b-5882-417e-9d9c-ad5a597b4a33",
   "metadata": {},
   "outputs": [
    {
     "name": "stdout",
     "output_type": "stream",
     "text": [
      "dog True 75.254234 False\n",
      "cat True 63.188496 False\n",
      "nargle False 0.0 True\n"
     ]
    }
   ],
   "source": [
    "for token in tokens:\n",
    "    print(token.text, token.has_vector, token.vector_norm, token.is_oov)"
   ]
  },
  {
   "cell_type": "markdown",
   "id": "0d7dca2d-0c23-4ef6-b2f0-acf810ae9e97",
   "metadata": {},
   "source": [
    "### Vector Arithmetic"
   ]
  },
  {
   "cell_type": "code",
   "execution_count": 47,
   "id": "ddfdcbe8-4c59-481c-bdee-eebba03a4480",
   "metadata": {},
   "outputs": [],
   "source": [
    "from scipy import spatial\n",
    "cosine_similarity = lambda vec1, vec2: 1 - spatial.distance.cosine(vec1, vec2)"
   ]
  },
  {
   "cell_type": "code",
   "execution_count": 49,
   "id": "3f9d373c-920b-4ee3-abf3-5cb187d9ff8f",
   "metadata": {},
   "outputs": [],
   "source": [
    "king = nlp.vocab['king'].vector\n",
    "man =  nlp.vocab['man'].vector \n",
    "woman =  nlp.vocab['woman'].vector "
   ]
  },
  {
   "cell_type": "code",
   "execution_count": 51,
   "id": "48f0f91c-674b-4436-8bb5-64f650f0df94",
   "metadata": {},
   "outputs": [],
   "source": [
    "#king - man + won = new_vector similar to queen, princess\n",
    "new_vector = king - man + woman\n",
    "computed_similarities = []\n",
    "for word in nlp.vocab:\n",
    "    if word.has_vector:\n",
    "        if word.is_lower:\n",
    "            if word.is_alpha:\n",
    "                similarity = cosine_similarity(new_vector, word.vector)\n",
    "                computed_similarities.append((word, similarity))\n",
    "        "
   ]
  },
  {
   "cell_type": "code",
   "execution_count": 53,
   "id": "1aa77a29-6527-47fb-aa78-5398f634f19b",
   "metadata": {},
   "outputs": [],
   "source": [
    "computed_similarities = sorted(computed_similarities, key= lambda item: - item[1])"
   ]
  },
  {
   "cell_type": "code",
   "execution_count": 59,
   "id": "114b94aa-7c8b-4622-91a0-502d23c23120",
   "metadata": {},
   "outputs": [
    {
     "name": "stdout",
     "output_type": "stream",
     "text": [
      "['king', 'and', 'that', 'several', 'where', 'she', 'they', 'woman', 'there', 'should', 'these', 'would', 'those', 'to', 'cause', 'ought', 'who', 'reasons', 'might', 'not', 'this', 'when', 'could', 'somethin', 'were', 'all', 'a', 'have', 'he', 'for', 'must', 'lion', 'love', 'space', 'what', 'may', 'it', 'was', 'cover', 'topic', 'you', 'like', 'or', 'be', 'had', 'are', 'nothin', 'has', 'need', 'can', 'is', 'how', 'b', 'know', 'does', 're', 'hard', 'p', 'havin', 'on', 'why', 'man', 'did', 's', 'c', 'pet', 'we', 'j', 'z', 'cart', 'g', 'd', 'cat', 'dog', 'h', 'n', 'l', 'x', 'sha', 'k', 'e', 'y', 'r', 'hate', 'dare', 'pm', 'm', 'f', 'lovin', 'ü', 'ö', 'w', 'bout', 'q', 'i', 'ä', 'am', 'co', 'll', 'let']\n"
     ]
    }
   ],
   "source": [
    "print([t[0].text for t in computed_similarities[:100]])"
   ]
  },
  {
   "cell_type": "markdown",
   "id": "45273b22-5639-4f1e-950d-6e36fb9f43cb",
   "metadata": {},
   "source": [
    "# Vader Sentiment Analysis "
   ]
  },
  {
   "cell_type": "markdown",
   "id": "ad65e2a3-d6a8-4406-8999-1caba894c8aa",
   "metadata": {},
   "source": [
    "VADER also know as (Valence Aware Dictionary for Sentiment Reasoning) is a model used for text sentiment analysis that is sensitive to both polarity, that is whether something is positive or negative,\n",
    "and intensity, that is the strength of the emotion. It is  available in the NLTK package and can be applied directly to unlabeled text data. VADER sentiment analysis\n",
    "relies on a dictionary which maps lexical features to emotion intensities, called sentiment scores.The sentiment score of a text can then be attained\n",
    "by summing up the intensity of each word in the text."
   ]
  },
  {
   "cell_type": "code",
   "execution_count": 65,
   "id": "abd19394-905e-4caa-8125-45ba7049a807",
   "metadata": {},
   "outputs": [
    {
     "name": "stderr",
     "output_type": "stream",
     "text": [
      "[nltk_data] Downloading package vader_lexicon to\n",
      "[nltk_data]     C:\\Users\\Owner\\AppData\\Roaming\\nltk_data...\n"
     ]
    },
    {
     "data": {
      "text/plain": [
       "True"
      ]
     },
     "execution_count": 65,
     "metadata": {},
     "output_type": "execute_result"
    }
   ],
   "source": [
    "import nltk\n",
    "# g3t the vader lexicon dictionary\n",
    "nltk.download('vader_lexicon')"
   ]
  },
  {
   "cell_type": "code",
   "execution_count": 67,
   "id": "58023889-b30a-4076-a477-dbd290cf8b30",
   "metadata": {},
   "outputs": [],
   "source": [
    "from nltk.sentiment.vader import SentimentIntensityAnalyzer"
   ]
  },
  {
   "cell_type": "code",
   "execution_count": 69,
   "id": "889e1e36-8b92-4586-8809-fa814db84509",
   "metadata": {},
   "outputs": [],
   "source": [
    "sid = SentimentIntensityAnalyzer()"
   ]
  },
  {
   "cell_type": "code",
   "execution_count": 71,
   "id": "8b375d51-5133-4c92-9126-da556c2b2352",
   "metadata": {},
   "outputs": [
    {
     "data": {
      "text/plain": [
       "{'neg': 0.0, 'neu': 0.508, 'pos': 0.492, 'compound': 0.4404}"
      ]
     },
     "execution_count": 71,
     "metadata": {},
     "output_type": "execute_result"
    }
   ],
   "source": [
    "a = 'This was a good movie.'\n",
    "sid.polarity_scores(a)"
   ]
  },
  {
   "cell_type": "code",
   "execution_count": 73,
   "id": "c3f01bae-601a-44f3-b16a-d7838481b80f",
   "metadata": {},
   "outputs": [
    {
     "data": {
      "text/plain": [
       "{'neg': 0.0, 'neu': 0.425, 'pos': 0.575, 'compound': 0.8877}"
      ]
     },
     "execution_count": 73,
     "metadata": {},
     "output_type": "execute_result"
    }
   ],
   "source": [
    "a = \"This was the best, most awesome movie EVER MADE!!!\"\n",
    "sid.polarity_scores(a)"
   ]
  },
  {
   "cell_type": "code",
   "execution_count": 75,
   "id": "9126d6de-c7ca-4a2e-9b23-8e11bb62ec12",
   "metadata": {},
   "outputs": [
    {
     "data": {
      "text/plain": [
       "{'neg': 0.465, 'neu': 0.535, 'pos': 0.0, 'compound': -0.8331}"
      ]
     },
     "execution_count": 75,
     "metadata": {},
     "output_type": "execute_result"
    }
   ],
   "source": [
    "a = \"This was the WORST movie that has ever disgraced the screen\"\n",
    "sid.polarity_scores(a)"
   ]
  },
  {
   "cell_type": "markdown",
   "id": "6cf0d7de-015c-4831-a2c4-931e5c7a1278",
   "metadata": {},
   "source": [
    "### Sample Amazon Text Sentiment Analysis"
   ]
  },
  {
   "cell_type": "code",
   "execution_count": 78,
   "id": "da79e570-0c7b-403d-8145-3d50cbac8394",
   "metadata": {},
   "outputs": [
    {
     "data": {
      "text/html": [
       "<div>\n",
       "<style scoped>\n",
       "    .dataframe tbody tr th:only-of-type {\n",
       "        vertical-align: middle;\n",
       "    }\n",
       "\n",
       "    .dataframe tbody tr th {\n",
       "        vertical-align: top;\n",
       "    }\n",
       "\n",
       "    .dataframe thead th {\n",
       "        text-align: right;\n",
       "    }\n",
       "</style>\n",
       "<table border=\"1\" class=\"dataframe\">\n",
       "  <thead>\n",
       "    <tr style=\"text-align: right;\">\n",
       "      <th></th>\n",
       "      <th>label</th>\n",
       "      <th>review</th>\n",
       "    </tr>\n",
       "  </thead>\n",
       "  <tbody>\n",
       "    <tr>\n",
       "      <th>0</th>\n",
       "      <td>pos</td>\n",
       "      <td>Stuning even for the non-gamer: This sound tra...</td>\n",
       "    </tr>\n",
       "    <tr>\n",
       "      <th>1</th>\n",
       "      <td>pos</td>\n",
       "      <td>The best soundtrack ever to anything.: I'm rea...</td>\n",
       "    </tr>\n",
       "    <tr>\n",
       "      <th>2</th>\n",
       "      <td>pos</td>\n",
       "      <td>Amazing!: This soundtrack is my favorite music...</td>\n",
       "    </tr>\n",
       "    <tr>\n",
       "      <th>3</th>\n",
       "      <td>pos</td>\n",
       "      <td>Excellent Soundtrack: I truly like this soundt...</td>\n",
       "    </tr>\n",
       "    <tr>\n",
       "      <th>4</th>\n",
       "      <td>pos</td>\n",
       "      <td>Remember, Pull Your Jaw Off The Floor After He...</td>\n",
       "    </tr>\n",
       "  </tbody>\n",
       "</table>\n",
       "</div>"
      ],
      "text/plain": [
       "  label                                             review\n",
       "0   pos  Stuning even for the non-gamer: This sound tra...\n",
       "1   pos  The best soundtrack ever to anything.: I'm rea...\n",
       "2   pos  Amazing!: This soundtrack is my favorite music...\n",
       "3   pos  Excellent Soundtrack: I truly like this soundt...\n",
       "4   pos  Remember, Pull Your Jaw Off The Floor After He..."
      ]
     },
     "execution_count": 78,
     "metadata": {},
     "output_type": "execute_result"
    }
   ],
   "source": [
    "df = pd.read_csv(r\"C:\\Users\\Owner\\Desktop\\UPDATED_NLP_COURSE\\UPDATED_NLP_COURSE\\04-Semantics-and-Sentiment-Analysis\\amazonreviews.tsv\", sep='\\t')\n",
    "df.head()"
   ]
  },
  {
   "cell_type": "code",
   "execution_count": 82,
   "id": "d22f52a9-1e5f-47b5-9d1e-b8bffde10e0f",
   "metadata": {},
   "outputs": [
    {
     "data": {
      "text/html": [
       "<div>\n",
       "<style scoped>\n",
       "    .dataframe tbody tr th:only-of-type {\n",
       "        vertical-align: middle;\n",
       "    }\n",
       "\n",
       "    .dataframe tbody tr th {\n",
       "        vertical-align: top;\n",
       "    }\n",
       "\n",
       "    .dataframe thead th {\n",
       "        text-align: right;\n",
       "    }\n",
       "</style>\n",
       "<table border=\"1\" class=\"dataframe\">\n",
       "  <thead>\n",
       "    <tr style=\"text-align: right;\">\n",
       "      <th></th>\n",
       "      <th>count</th>\n",
       "      <th>unique</th>\n",
       "      <th>top</th>\n",
       "      <th>freq</th>\n",
       "    </tr>\n",
       "  </thead>\n",
       "  <tbody>\n",
       "    <tr>\n",
       "      <th>label</th>\n",
       "      <td>10000</td>\n",
       "      <td>2</td>\n",
       "      <td>neg</td>\n",
       "      <td>5097</td>\n",
       "    </tr>\n",
       "    <tr>\n",
       "      <th>review</th>\n",
       "      <td>10000</td>\n",
       "      <td>10000</td>\n",
       "      <td>Stuning even for the non-gamer: This sound tra...</td>\n",
       "      <td>1</td>\n",
       "    </tr>\n",
       "  </tbody>\n",
       "</table>\n",
       "</div>"
      ],
      "text/plain": [
       "        count unique                                                top  freq\n",
       "label   10000      2                                                neg  5097\n",
       "review  10000  10000  Stuning even for the non-gamer: This sound tra...     1"
      ]
     },
     "execution_count": 82,
     "metadata": {},
     "output_type": "execute_result"
    }
   ],
   "source": [
    "#get basic stats of the dataset\n",
    "df.describe().transpose()"
   ]
  },
  {
   "cell_type": "code",
   "execution_count": 84,
   "id": "fac9c84f-8bdb-445c-a9fe-2bec682cf014",
   "metadata": {},
   "outputs": [
    {
     "data": {
      "text/plain": [
       "label\n",
       "neg    5097\n",
       "pos    4903\n",
       "Name: count, dtype: int64"
      ]
     },
     "execution_count": 84,
     "metadata": {},
     "output_type": "execute_result"
    }
   ],
   "source": [
    "# check for unique values in the label column\n",
    "df['label'].value_counts()"
   ]
  },
  {
   "cell_type": "code",
   "execution_count": 90,
   "id": "da921e8c-2dc6-4397-bf71-d4aa0e458333",
   "metadata": {},
   "outputs": [
    {
     "data": {
      "text/plain": [
       "label     0\n",
       "review    0\n",
       "dtype: int64"
      ]
     },
     "execution_count": 90,
     "metadata": {},
     "output_type": "execute_result"
    }
   ],
   "source": [
    "#check for null values\n",
    "df.isnull().sum()"
   ]
  },
  {
   "cell_type": "code",
   "execution_count": 92,
   "id": "500e88fe-a4cf-4ed8-9f5d-d773f6221047",
   "metadata": {},
   "outputs": [],
   "source": [
    "# in case of null values drop nulls from data set\n",
    "df.dropna(inplace= True)"
   ]
  },
  {
   "cell_type": "code",
   "execution_count": 100,
   "id": "9d8b139a-83cd-42f4-8fa4-d4814caf06b0",
   "metadata": {},
   "outputs": [],
   "source": [
    "blanks= []\n",
    "for i, lb, rv in df.itertuples():\n",
    "    if type(rv) == str:\n",
    "        if rv.isspace():\n",
    "            blanks.append(i)"
   ]
  },
  {
   "cell_type": "code",
   "execution_count": 104,
   "id": "6936cb2b-aaea-4389-92d7-a336943aaa95",
   "metadata": {},
   "outputs": [],
   "source": [
    "# drop any blanks if any review texts are balck\n",
    "df.drop(blanks, inplace=True)"
   ]
  },
  {
   "cell_type": "code",
   "execution_count": 106,
   "id": "825c1a0b-223e-4ae9-bbb7-2c9e74bb8e49",
   "metadata": {},
   "outputs": [
    {
     "data": {
      "text/plain": [
       "'Stuning even for the non-gamer: This sound track was beautiful! It paints the senery in your mind so well I would recomend it even to people who hate vid. game music! I have played the game Chrono Cross but out of all of the games I have ever played it has the best music! It backs away from crude keyboarding and takes a fresher step with grate guitars and soulful orchestras. It would impress anyone who cares to listen! ^_^'"
      ]
     },
     "execution_count": 106,
     "metadata": {},
     "output_type": "execute_result"
    }
   ],
   "source": [
    "#check the first review\n",
    "df.iloc[0]['review']"
   ]
  },
  {
   "cell_type": "code",
   "execution_count": 108,
   "id": "b6d4121a-c265-4786-8d55-b46bb9d10ec2",
   "metadata": {},
   "outputs": [
    {
     "data": {
      "text/plain": [
       "{'neg': 0.088, 'neu': 0.669, 'pos': 0.243, 'compound': 0.9454}"
      ]
     },
     "execution_count": 108,
     "metadata": {},
     "output_type": "execute_result"
    }
   ],
   "source": [
    "# check the polarity score for the above review and how vader classify it\n",
    "sid.polarity_scores(df.iloc[0]['review'])"
   ]
  },
  {
   "cell_type": "code",
   "execution_count": 110,
   "id": "3159498b-62e9-406f-9f0e-51fe35422675",
   "metadata": {},
   "outputs": [],
   "source": [
    "df['scores'] = df['review'].apply(lambda review: sid.polarity_scores(review))"
   ]
  },
  {
   "cell_type": "code",
   "execution_count": 112,
   "id": "b765d6bc-36ab-4552-a4ab-942b3ff60235",
   "metadata": {},
   "outputs": [
    {
     "data": {
      "text/html": [
       "<div>\n",
       "<style scoped>\n",
       "    .dataframe tbody tr th:only-of-type {\n",
       "        vertical-align: middle;\n",
       "    }\n",
       "\n",
       "    .dataframe tbody tr th {\n",
       "        vertical-align: top;\n",
       "    }\n",
       "\n",
       "    .dataframe thead th {\n",
       "        text-align: right;\n",
       "    }\n",
       "</style>\n",
       "<table border=\"1\" class=\"dataframe\">\n",
       "  <thead>\n",
       "    <tr style=\"text-align: right;\">\n",
       "      <th></th>\n",
       "      <th>label</th>\n",
       "      <th>review</th>\n",
       "      <th>scores</th>\n",
       "    </tr>\n",
       "  </thead>\n",
       "  <tbody>\n",
       "    <tr>\n",
       "      <th>0</th>\n",
       "      <td>pos</td>\n",
       "      <td>Stuning even for the non-gamer: This sound tra...</td>\n",
       "      <td>{'neg': 0.088, 'neu': 0.669, 'pos': 0.243, 'co...</td>\n",
       "    </tr>\n",
       "    <tr>\n",
       "      <th>1</th>\n",
       "      <td>pos</td>\n",
       "      <td>The best soundtrack ever to anything.: I'm rea...</td>\n",
       "      <td>{'neg': 0.018, 'neu': 0.837, 'pos': 0.145, 'co...</td>\n",
       "    </tr>\n",
       "    <tr>\n",
       "      <th>2</th>\n",
       "      <td>pos</td>\n",
       "      <td>Amazing!: This soundtrack is my favorite music...</td>\n",
       "      <td>{'neg': 0.04, 'neu': 0.692, 'pos': 0.268, 'com...</td>\n",
       "    </tr>\n",
       "    <tr>\n",
       "      <th>3</th>\n",
       "      <td>pos</td>\n",
       "      <td>Excellent Soundtrack: I truly like this soundt...</td>\n",
       "      <td>{'neg': 0.09, 'neu': 0.615, 'pos': 0.295, 'com...</td>\n",
       "    </tr>\n",
       "    <tr>\n",
       "      <th>4</th>\n",
       "      <td>pos</td>\n",
       "      <td>Remember, Pull Your Jaw Off The Floor After He...</td>\n",
       "      <td>{'neg': 0.0, 'neu': 0.746, 'pos': 0.254, 'comp...</td>\n",
       "    </tr>\n",
       "  </tbody>\n",
       "</table>\n",
       "</div>"
      ],
      "text/plain": [
       "  label                                             review  \\\n",
       "0   pos  Stuning even for the non-gamer: This sound tra...   \n",
       "1   pos  The best soundtrack ever to anything.: I'm rea...   \n",
       "2   pos  Amazing!: This soundtrack is my favorite music...   \n",
       "3   pos  Excellent Soundtrack: I truly like this soundt...   \n",
       "4   pos  Remember, Pull Your Jaw Off The Floor After He...   \n",
       "\n",
       "                                              scores  \n",
       "0  {'neg': 0.088, 'neu': 0.669, 'pos': 0.243, 'co...  \n",
       "1  {'neg': 0.018, 'neu': 0.837, 'pos': 0.145, 'co...  \n",
       "2  {'neg': 0.04, 'neu': 0.692, 'pos': 0.268, 'com...  \n",
       "3  {'neg': 0.09, 'neu': 0.615, 'pos': 0.295, 'com...  \n",
       "4  {'neg': 0.0, 'neu': 0.746, 'pos': 0.254, 'comp...  "
      ]
     },
     "execution_count": 112,
     "metadata": {},
     "output_type": "execute_result"
    }
   ],
   "source": [
    "df.head()"
   ]
  },
  {
   "cell_type": "code",
   "execution_count": 114,
   "id": "371afc0b-baed-4130-9b6f-c155410388b8",
   "metadata": {},
   "outputs": [
    {
     "data": {
      "text/html": [
       "<div>\n",
       "<style scoped>\n",
       "    .dataframe tbody tr th:only-of-type {\n",
       "        vertical-align: middle;\n",
       "    }\n",
       "\n",
       "    .dataframe tbody tr th {\n",
       "        vertical-align: top;\n",
       "    }\n",
       "\n",
       "    .dataframe thead th {\n",
       "        text-align: right;\n",
       "    }\n",
       "</style>\n",
       "<table border=\"1\" class=\"dataframe\">\n",
       "  <thead>\n",
       "    <tr style=\"text-align: right;\">\n",
       "      <th></th>\n",
       "      <th>label</th>\n",
       "      <th>review</th>\n",
       "      <th>scores</th>\n",
       "      <th>compound</th>\n",
       "    </tr>\n",
       "  </thead>\n",
       "  <tbody>\n",
       "    <tr>\n",
       "      <th>0</th>\n",
       "      <td>pos</td>\n",
       "      <td>Stuning even for the non-gamer: This sound tra...</td>\n",
       "      <td>{'neg': 0.088, 'neu': 0.669, 'pos': 0.243, 'co...</td>\n",
       "      <td>0.9454</td>\n",
       "    </tr>\n",
       "    <tr>\n",
       "      <th>1</th>\n",
       "      <td>pos</td>\n",
       "      <td>The best soundtrack ever to anything.: I'm rea...</td>\n",
       "      <td>{'neg': 0.018, 'neu': 0.837, 'pos': 0.145, 'co...</td>\n",
       "      <td>0.8957</td>\n",
       "    </tr>\n",
       "    <tr>\n",
       "      <th>2</th>\n",
       "      <td>pos</td>\n",
       "      <td>Amazing!: This soundtrack is my favorite music...</td>\n",
       "      <td>{'neg': 0.04, 'neu': 0.692, 'pos': 0.268, 'com...</td>\n",
       "      <td>0.9858</td>\n",
       "    </tr>\n",
       "    <tr>\n",
       "      <th>3</th>\n",
       "      <td>pos</td>\n",
       "      <td>Excellent Soundtrack: I truly like this soundt...</td>\n",
       "      <td>{'neg': 0.09, 'neu': 0.615, 'pos': 0.295, 'com...</td>\n",
       "      <td>0.9814</td>\n",
       "    </tr>\n",
       "    <tr>\n",
       "      <th>4</th>\n",
       "      <td>pos</td>\n",
       "      <td>Remember, Pull Your Jaw Off The Floor After He...</td>\n",
       "      <td>{'neg': 0.0, 'neu': 0.746, 'pos': 0.254, 'comp...</td>\n",
       "      <td>0.9781</td>\n",
       "    </tr>\n",
       "  </tbody>\n",
       "</table>\n",
       "</div>"
      ],
      "text/plain": [
       "  label                                             review  \\\n",
       "0   pos  Stuning even for the non-gamer: This sound tra...   \n",
       "1   pos  The best soundtrack ever to anything.: I'm rea...   \n",
       "2   pos  Amazing!: This soundtrack is my favorite music...   \n",
       "3   pos  Excellent Soundtrack: I truly like this soundt...   \n",
       "4   pos  Remember, Pull Your Jaw Off The Floor After He...   \n",
       "\n",
       "                                              scores  compound  \n",
       "0  {'neg': 0.088, 'neu': 0.669, 'pos': 0.243, 'co...    0.9454  \n",
       "1  {'neg': 0.018, 'neu': 0.837, 'pos': 0.145, 'co...    0.8957  \n",
       "2  {'neg': 0.04, 'neu': 0.692, 'pos': 0.268, 'com...    0.9858  \n",
       "3  {'neg': 0.09, 'neu': 0.615, 'pos': 0.295, 'com...    0.9814  \n",
       "4  {'neg': 0.0, 'neu': 0.746, 'pos': 0.254, 'comp...    0.9781  "
      ]
     },
     "execution_count": 114,
     "metadata": {},
     "output_type": "execute_result"
    }
   ],
   "source": [
    "df['compound'] = df['scores'].apply(lambda d:d['compound'])\n",
    "df.head()"
   ]
  },
  {
   "cell_type": "code",
   "execution_count": 116,
   "id": "4fabf6d7-dc6d-441b-8ba9-17581325c745",
   "metadata": {},
   "outputs": [
    {
     "data": {
      "text/html": [
       "<div>\n",
       "<style scoped>\n",
       "    .dataframe tbody tr th:only-of-type {\n",
       "        vertical-align: middle;\n",
       "    }\n",
       "\n",
       "    .dataframe tbody tr th {\n",
       "        vertical-align: top;\n",
       "    }\n",
       "\n",
       "    .dataframe thead th {\n",
       "        text-align: right;\n",
       "    }\n",
       "</style>\n",
       "<table border=\"1\" class=\"dataframe\">\n",
       "  <thead>\n",
       "    <tr style=\"text-align: right;\">\n",
       "      <th></th>\n",
       "      <th>label</th>\n",
       "      <th>review</th>\n",
       "      <th>scores</th>\n",
       "      <th>compound</th>\n",
       "      <th>comp_score</th>\n",
       "    </tr>\n",
       "  </thead>\n",
       "  <tbody>\n",
       "    <tr>\n",
       "      <th>0</th>\n",
       "      <td>pos</td>\n",
       "      <td>Stuning even for the non-gamer: This sound tra...</td>\n",
       "      <td>{'neg': 0.088, 'neu': 0.669, 'pos': 0.243, 'co...</td>\n",
       "      <td>0.9454</td>\n",
       "      <td>pos</td>\n",
       "    </tr>\n",
       "    <tr>\n",
       "      <th>1</th>\n",
       "      <td>pos</td>\n",
       "      <td>The best soundtrack ever to anything.: I'm rea...</td>\n",
       "      <td>{'neg': 0.018, 'neu': 0.837, 'pos': 0.145, 'co...</td>\n",
       "      <td>0.8957</td>\n",
       "      <td>pos</td>\n",
       "    </tr>\n",
       "    <tr>\n",
       "      <th>2</th>\n",
       "      <td>pos</td>\n",
       "      <td>Amazing!: This soundtrack is my favorite music...</td>\n",
       "      <td>{'neg': 0.04, 'neu': 0.692, 'pos': 0.268, 'com...</td>\n",
       "      <td>0.9858</td>\n",
       "      <td>pos</td>\n",
       "    </tr>\n",
       "    <tr>\n",
       "      <th>3</th>\n",
       "      <td>pos</td>\n",
       "      <td>Excellent Soundtrack: I truly like this soundt...</td>\n",
       "      <td>{'neg': 0.09, 'neu': 0.615, 'pos': 0.295, 'com...</td>\n",
       "      <td>0.9814</td>\n",
       "      <td>pos</td>\n",
       "    </tr>\n",
       "    <tr>\n",
       "      <th>4</th>\n",
       "      <td>pos</td>\n",
       "      <td>Remember, Pull Your Jaw Off The Floor After He...</td>\n",
       "      <td>{'neg': 0.0, 'neu': 0.746, 'pos': 0.254, 'comp...</td>\n",
       "      <td>0.9781</td>\n",
       "      <td>pos</td>\n",
       "    </tr>\n",
       "  </tbody>\n",
       "</table>\n",
       "</div>"
      ],
      "text/plain": [
       "  label                                             review  \\\n",
       "0   pos  Stuning even for the non-gamer: This sound tra...   \n",
       "1   pos  The best soundtrack ever to anything.: I'm rea...   \n",
       "2   pos  Amazing!: This soundtrack is my favorite music...   \n",
       "3   pos  Excellent Soundtrack: I truly like this soundt...   \n",
       "4   pos  Remember, Pull Your Jaw Off The Floor After He...   \n",
       "\n",
       "                                              scores  compound comp_score  \n",
       "0  {'neg': 0.088, 'neu': 0.669, 'pos': 0.243, 'co...    0.9454        pos  \n",
       "1  {'neg': 0.018, 'neu': 0.837, 'pos': 0.145, 'co...    0.8957        pos  \n",
       "2  {'neg': 0.04, 'neu': 0.692, 'pos': 0.268, 'com...    0.9858        pos  \n",
       "3  {'neg': 0.09, 'neu': 0.615, 'pos': 0.295, 'com...    0.9814        pos  \n",
       "4  {'neg': 0.0, 'neu': 0.746, 'pos': 0.254, 'comp...    0.9781        pos  "
      ]
     },
     "execution_count": 116,
     "metadata": {},
     "output_type": "execute_result"
    }
   ],
   "source": [
    "df['comp_score'] = df['compound'].apply(lambda score: 'pos' if score >= 0 else 'neg')\n",
    "df.head()"
   ]
  },
  {
   "cell_type": "markdown",
   "id": "4a15d088-350f-4602-8367-27d1af02d44c",
   "metadata": {},
   "source": [
    "#### Evaluation Metrics"
   ]
  },
  {
   "cell_type": "code",
   "execution_count": 119,
   "id": "5f0dd651-a906-4174-89b0-625b48f74dcf",
   "metadata": {},
   "outputs": [
    {
     "data": {
      "text/plain": [
       "0.7098"
      ]
     },
     "execution_count": 119,
     "metadata": {},
     "output_type": "execute_result"
    }
   ],
   "source": [
    "from sklearn.metrics import accuracy_score, confusion_matrix, classification_report\n",
    "accuracy_score(df['label'], df['comp_score'])"
   ]
  },
  {
   "cell_type": "code",
   "execution_count": 123,
   "id": "d46e57ac-36c8-4975-9a1e-2eee42a8bcdd",
   "metadata": {},
   "outputs": [
    {
     "name": "stdout",
     "output_type": "stream",
     "text": [
      "              precision    recall  f1-score   support\n",
      "\n",
      "         neg       0.86      0.52      0.64      5097\n",
      "         pos       0.64      0.91      0.75      4903\n",
      "\n",
      "    accuracy                           0.71     10000\n",
      "   macro avg       0.75      0.71      0.70     10000\n",
      "weighted avg       0.75      0.71      0.70     10000\n",
      "\n"
     ]
    }
   ],
   "source": [
    "#we have the correctly classified instance of positive and negative versus the incorrectly classified.\n",
    "print(classification_report(df['label'], df['comp_score']))"
   ]
  },
  {
   "cell_type": "code",
   "execution_count": 125,
   "id": "9511ce65-3368-43de-a4f0-e1d9809971ae",
   "metadata": {},
   "outputs": [
    {
     "name": "stdout",
     "output_type": "stream",
     "text": [
      "[[2630 2467]\n",
      " [ 435 4468]]\n"
     ]
    }
   ],
   "source": [
    "#So you can see here, again it's not performing well with the negative for review\n",
    "print(confusion_matrix(df['label'], df['comp_score']))"
   ]
  },
  {
   "cell_type": "markdown",
   "id": "abb1eddf-8955-4239-a64b-da1cc9939dc4",
   "metadata": {},
   "source": [
    "CONCLUSION:\n",
    "Vader for the Amazon sentiment analysis is deffinitely not bad considering how\n",
    "simple the process is, but it's also not excellent compared to maybe some state-of-the-art deep learning methods\n",
    "for sentiment analysis."
   ]
  },
  {
   "cell_type": "code",
   "execution_count": null,
   "id": "d84af84c-61bb-4d7b-8a81-ba2799c90687",
   "metadata": {},
   "outputs": [],
   "source": []
  }
 ],
 "metadata": {
  "kernelspec": {
   "display_name": "Python 3 (ipykernel)",
   "language": "python",
   "name": "python3"
  },
  "language_info": {
   "codemirror_mode": {
    "name": "ipython",
    "version": 3
   },
   "file_extension": ".py",
   "mimetype": "text/x-python",
   "name": "python",
   "nbconvert_exporter": "python",
   "pygments_lexer": "ipython3",
   "version": "3.12.3"
  }
 },
 "nbformat": 4,
 "nbformat_minor": 5
}
